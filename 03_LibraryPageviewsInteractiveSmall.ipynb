{
 "cells": [
  {
   "cell_type": "markdown",
   "metadata": {},
   "source": [
    "# Library page views interactive\n",
    "\n",
    "This is another look at the small libraries pageview data, but this time combining multiple visualizations linked by interactive selections!"
   ]
  },
  {
   "cell_type": "code",
   "execution_count": null,
   "metadata": {},
   "outputs": [],
   "source": [
    "import pandas as pd\n",
    "import altair as alt\n",
    "from altair import datum"
   ]
  },
  {
   "cell_type": "markdown",
   "metadata": {},
   "source": [
    "## Read in library web site page views data\n"
   ]
  },
  {
   "cell_type": "code",
   "execution_count": null,
   "metadata": {},
   "outputs": [],
   "source": [
    "pageviews = pd.read_csv('data/pageviews_2012_small.csv')\n",
    "pageviews.head()"
   ]
  },
  {
   "cell_type": "code",
   "execution_count": null,
   "metadata": {},
   "outputs": [],
   "source": [
    "len(pageviews)"
   ]
  },
  {
   "cell_type": "code",
   "execution_count": null,
   "metadata": {},
   "outputs": [],
   "source": [
    "pageviews.dtypes"
   ]
  },
  {
   "cell_type": "markdown",
   "metadata": {},
   "source": [
    "## Change ISO_time to a true date and time data type"
   ]
  },
  {
   "cell_type": "code",
   "execution_count": null,
   "metadata": {},
   "outputs": [],
   "source": [
    "pageviews['timestamp'] = pd.to_datetime(pageviews.timestamp)\n",
    "pageviews.dtypes"
   ]
  },
  {
   "cell_type": "markdown",
   "metadata": {},
   "source": [
    "## MaxRowsError\n",
    "\n",
    "Can take off limit for number of rows, but that's not a great idea because the notebook will have a Vega-Lite JSON specification (text) embedded for every output pane, which also includes the data, so you end up with huge notebooks!\n",
    "\n",
    "Instead, we can specify that the outputs should just refer to a JSON file on your local drive and load in the data from there for each plot.\n",
    "\n",
    "See the Altair tutorial notebook `03-Binning-and-aggregation` for more details."
   ]
  },
  {
   "cell_type": "code",
   "execution_count": null,
   "metadata": {},
   "outputs": [],
   "source": [
    "alt.data_transformers.enable('json')"
   ]
  },
  {
   "cell_type": "markdown",
   "metadata": {},
   "source": [
    "## Filtering bar chart with time interval selection"
   ]
  },
  {
   "cell_type": "code",
   "execution_count": null,
   "metadata": {},
   "outputs": [],
   "source": [
    "interval = alt.selection_interval(encodings=['x'],fields=['timestamp:T'])\n",
    "\n",
    "timeline = alt.Chart(pageviews).mark_line().encode(\n",
    "    x = alt.X('timestamp:T', timeUnit='yearmonthdate'),\n",
    "    y = 'sum(visitors):Q',\n",
    "    color = alt.value('darkgray')\n",
    ").properties(\n",
    "    height = 100\n",
    ").add_selection(\n",
    "    interval\n",
    ")\n",
    "\n",
    "bar = alt.Chart(pageviews).mark_bar().encode(\n",
    "    x = 'sum(visitors)',\n",
    "    y = 'country'\n",
    ").transform_filter(\n",
    "    interval\n",
    ")\n",
    "\n",
    "timeline & bar"
   ]
  },
  {
   "cell_type": "markdown",
   "metadata": {},
   "source": [
    "## Bars filter timeline with single selection"
   ]
  },
  {
   "cell_type": "code",
   "execution_count": null,
   "metadata": {},
   "outputs": [],
   "source": [
    "single = alt.selection_single(empty='all', fields=['lcc_description'])\n",
    "\n",
    "bar = alt.Chart(pageviews).mark_bar().encode(\n",
    "    x = 'sum(visitors)',\n",
    "    y = alt.Y('lcc_description',\n",
    "            sort=alt.EncodingSortField(\n",
    "                field=\"visitors\",\n",
    "                op=\"sum\",\n",
    "                order=\"descending\")\n",
    "    ),\n",
    "    color=alt.condition(single, alt.ColorValue(\"steelblue\"), alt.ColorValue(\"lightgray\")),\n",
    ").properties(\n",
    "    selection = single,\n",
    "    height = 300\n",
    ")\n",
    "\n",
    "timeline = alt.Chart(pageviews).mark_line().encode(\n",
    "    x = alt.X('timestamp:T', timeUnit='yearmonthdate'),\n",
    "    y = 'sum(visitors):Q'\n",
    ").transform_filter(\n",
    "    single\n",
    ").properties(\n",
    "    height = 100\n",
    ")\n",
    "\n",
    "bar & timeline"
   ]
  }
 ],
 "metadata": {
  "kernelspec": {
   "display_name": "Python 3",
   "language": "python",
   "name": "python3"
  },
  "language_info": {
   "codemirror_mode": {
    "name": "ipython",
    "version": 3
   },
   "file_extension": ".py",
   "mimetype": "text/x-python",
   "name": "python",
   "nbconvert_exporter": "python",
   "pygments_lexer": "ipython3",
   "version": "3.6.8"
  }
 },
 "nbformat": 4,
 "nbformat_minor": 2
}
