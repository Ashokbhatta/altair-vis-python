{
 "cells": [
  {
   "cell_type": "markdown",
   "metadata": {},
   "source": [
    "## Clone workshop repository from github\n",
    "\n",
    "This is just for your own documentation since you had to do this to get the repository in the first place!\n",
    "\n",
    "*NOTES:*\n",
    "\n",
    "1. You need to run this command either in a terminal, which you can open from the Home page of your Jupyter instance (New -> Terminal) or using a Bash kernel (which the OIT Docker system has installed, but isn't installed by default by the Anaconda Python distribution).\n",
    "1. You need to run this from the root of your Jupyter space. If you do it here you'll just make another copy of the repository inside the repository folder.\n",
    "\n",
    "Go to [my altair-vis-python github repository](https://github.com/emonson/altair-vis-python) and click on the green button that says \"Clone or download\". Copy the \"Clone with HTTPS\" URL and use the `git clone` command with a `bash` kernel to download the repository into your Jupyter space."
   ]
  },
  {
   "cell_type": "code",
   "execution_count": null,
   "metadata": {
    "collapsed": true
   },
   "outputs": [],
   "source": [
    "git clone https://github.com/emonson/altair-vis-python.git"
   ]
  },
  {
   "cell_type": "markdown",
   "metadata": {},
   "source": [
    "## Install Altair\n",
    "\n",
    "If the machine you're working on doesn't have Altair installed, go to a terminal (as mentioned above) and install using Conda"
   ]
  },
  {
   "cell_type": "code",
   "execution_count": null,
   "metadata": {},
   "outputs": [],
   "source": [
    "conda install -c conda-forge altair"
   ]
  },
  {
   "cell_type": "markdown",
   "metadata": {},
   "source": [
    "## Install vega_datasets\n",
    "\n",
    "We don't really need `vega_datasets` today, but it's handy to have, so I want you to know how to install it"
   ]
  },
  {
   "cell_type": "code",
   "execution_count": null,
   "metadata": {},
   "outputs": [],
   "source": [
    "conda install -c conda-forge vega_datasets"
   ]
  }
 ],
 "metadata": {
  "kernelspec": {
   "display_name": "Python 3",
   "language": "python",
   "name": "python3"
  },
  "language_info": {
   "codemirror_mode": {
    "name": "ipython",
    "version": 3
   },
   "file_extension": ".py",
   "mimetype": "text/x-python",
   "name": "python",
   "nbconvert_exporter": "python",
   "pygments_lexer": "ipython3",
   "version": "3.7.1"
  }
 },
 "nbformat": 4,
 "nbformat_minor": 2
}
