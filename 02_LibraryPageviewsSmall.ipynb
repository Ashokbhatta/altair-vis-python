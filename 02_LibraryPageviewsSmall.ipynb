{
 "cells": [
  {
   "cell_type": "markdown",
   "metadata": {},
   "source": [
    "# Library pageviews data\n",
    "\n",
    "This is data from Google Analytics on a subset of library item web page views from 2012.\n",
    "\n",
    "It has been severely reduced in size so that we can learn more about how to explore using Altair. You can see a version that deals with about a 20x larger subset in the `20_LibraryPageviews.ipynb` in this same repository."
   ]
  },
  {
   "cell_type": "code",
   "execution_count": null,
   "metadata": {},
   "outputs": [],
   "source": [
    "import pandas as pd\n",
    "import altair as alt\n",
    "from altair import datum"
   ]
  },
  {
   "cell_type": "markdown",
   "metadata": {},
   "source": [
    "## Read in library web site page views data\n"
   ]
  },
  {
   "cell_type": "code",
   "execution_count": null,
   "metadata": {},
   "outputs": [],
   "source": [
    "pageviews = pd.read_csv('data/pageviews_2012_small.csv')\n",
    "pageviews.head()"
   ]
  },
  {
   "cell_type": "code",
   "execution_count": null,
   "metadata": {},
   "outputs": [],
   "source": [
    "len(pageviews)"
   ]
  },
  {
   "cell_type": "code",
   "execution_count": null,
   "metadata": {},
   "outputs": [],
   "source": [
    "pageviews.dtypes"
   ]
  },
  {
   "cell_type": "markdown",
   "metadata": {},
   "source": [
    "## Change ISO_time to a true date and time data type"
   ]
  },
  {
   "cell_type": "code",
   "execution_count": null,
   "metadata": {},
   "outputs": [],
   "source": [
    "pageviews['timestamp'] = pd.to_datetime(pageviews.timestamp)\n",
    "pageviews.dtypes"
   ]
  },
  {
   "cell_type": "markdown",
   "metadata": {},
   "source": [
    "## MaxRowsError\n",
    "\n",
    "Can take off limit for number of rows, but that's not a great idea because the notebook will have a Vega-Lite JSON specification (text) embedded for every output pane, which also includes the data, so you end up with huge notebooks!\n",
    "\n",
    "Instead, we can specify that the outputs should just refer to a JSON file on your local drive and load in the data from there for each plot.\n",
    "\n",
    "See the Altair tutorial notebook `03-Binning-and-aggregation` for more details."
   ]
  },
  {
   "cell_type": "code",
   "execution_count": null,
   "metadata": {},
   "outputs": [],
   "source": [
    "alt.data_transformers.enable('json')"
   ]
  },
  {
   "cell_type": "markdown",
   "metadata": {},
   "source": [
    "## Simple summary charts\n",
    "\n",
    "### Bars of visitors per country"
   ]
  },
  {
   "cell_type": "code",
   "execution_count": null,
   "metadata": {},
   "outputs": [],
   "source": [
    "alt.Chart(pageviews).mark_bar().encode(\n",
    "    x = 'sum(visitors)',\n",
    "    y = 'country'\n",
    ")"
   ]
  },
  {
   "cell_type": "markdown",
   "metadata": {},
   "source": [
    "### Library of Congress Categories by country"
   ]
  },
  {
   "cell_type": "code",
   "execution_count": null,
   "metadata": {},
   "outputs": [],
   "source": [
    "alt.Chart(pageviews).mark_bar().encode(\n",
    "    x = 'sum(visitors)',\n",
    "    y = 'lcc_description',\n",
    "    color = 'country'\n",
    ")"
   ]
  },
  {
   "cell_type": "markdown",
   "metadata": {},
   "source": [
    "### Sort LCC category by number of visitors\n",
    "\n",
    "Also include lines along numeric axis and log scale"
   ]
  },
  {
   "cell_type": "code",
   "execution_count": null,
   "metadata": {},
   "outputs": [],
   "source": [
    "alt.Chart(pageviews).mark_point().encode(\n",
    "    x = alt.X('sum(visitors)', scale=alt.Scale(type='log')),\n",
    "    y = alt.Y('lcc_description',\n",
    "            sort=alt.EncodingSortField(\n",
    "                field=\"visitors\",\n",
    "                op=\"sum\",\n",
    "                order=\"descending\")\n",
    "    ),\n",
    "    color = 'country',\n",
    "    shape = 'country'\n",
    ").configure_axisY(grid=True).configure_axisX(grid=False)"
   ]
  },
  {
   "cell_type": "markdown",
   "metadata": {},
   "source": [
    "## TimeUnit transform: Visitors continuous time line\n",
    "\n",
    "#### A sum of visitors per day shows some weekly and seasonal detail\n",
    "\n",
    "[timeunit valid entries](https://altair-viz.github.io/user_guide/transform.html#timeunit-transform) are listed within a type of data transform called a **TimeUnit Transform**"
   ]
  },
  {
   "cell_type": "code",
   "execution_count": null,
   "metadata": {},
   "outputs": [],
   "source": [
    "alt.Chart(pageviews).mark_line().encode(\n",
    "    x = 'yearmonthdate(timestamp):T',\n",
    "    y = 'sum(visitors):Q'\n",
    ").properties(\n",
    "    width=600,\n",
    "    height=150\n",
    ")"
   ]
  },
  {
   "cell_type": "markdown",
   "metadata": {},
   "source": [
    "## Just Durham data using transform_filter()\n",
    "\n",
    "**You can see the school holidays more clearly in the Durham pageviews** as subtle drops in the number of visitors.\n",
    "\n",
    "*Note: datum is just a way to reference the data elements in each row instead of a whole column*"
   ]
  },
  {
   "cell_type": "code",
   "execution_count": null,
   "metadata": {},
   "outputs": [],
   "source": [
    "alt.Chart(pageviews).mark_line().encode(\n",
    "    x = 'yearmonthdate(timestamp):T',\n",
    "    y = 'sum(visitors):Q',\n",
    "    tooltip = 'yearmonthdate(timestamp):T'\n",
    ").transform_filter(\n",
    "    datum.city == 'Durham'\n",
    ").properties(\n",
    "    width=600,\n",
    "    height=150\n",
    ")"
   ]
  },
  {
   "cell_type": "markdown",
   "metadata": {},
   "source": [
    "## TimeUnit transform: Visitors by hour of day\n",
    "\n",
    "You can aggregate to various levels of time using \"timeunit transform\" functions. See [timeunit valid entries](https://altair-viz.github.io/user_guide/transform.html#timeunit-transform) for all the choices and more details. Change from temporal `T` data type to ordinal `O` (and `mark_bar`) if you want to make a more standard-looking bar chart."
   ]
  },
  {
   "cell_type": "code",
   "execution_count": null,
   "metadata": {},
   "outputs": [],
   "source": [
    "alt.Chart(pageviews).mark_line().encode(\n",
    "    x = 'hours(timestamp):T',\n",
    "    y = 'sum(visitors):Q'\n",
    ")"
   ]
  },
  {
   "cell_type": "markdown",
   "metadata": {},
   "source": [
    "### Canada, UK time shift\n",
    "\n",
    "If we filter down to just Canadian and UK visitors, and color by country, we can see a shift in the peak viewing time of day corresponding to their respective time zones."
   ]
  },
  {
   "cell_type": "code",
   "execution_count": null,
   "metadata": {},
   "outputs": [],
   "source": [
    "alt.Chart(pageviews).mark_line().encode(\n",
    "    x = 'hours(timestamp):T',\n",
    "    y = 'sum(visitors):Q',\n",
    "    color = 'country'\n",
    ").transform_filter(\n",
    "    (datum.country == 'Canada') | (datum.country == 'United Kingdom')\n",
    ")"
   ]
  },
  {
   "cell_type": "markdown",
   "metadata": {},
   "source": [
    "## Weekday vs hour of day heatmap\n",
    "\n",
    "A heatmap is a compact way to view typical patterns throughout the day, and how that varies by weekday.\n",
    "\n",
    "*Notice here that we change from a Time data type to Ordinal to get discreet marks*"
   ]
  },
  {
   "cell_type": "code",
   "execution_count": null,
   "metadata": {},
   "outputs": [],
   "source": [
    "alt.Chart(pageviews).mark_rect().encode(\n",
    "    x= 'hours(timestamp):O',\n",
    "    y= 'day(timestamp):O',\n",
    "    color='sum(visitors)'\n",
    ")"
   ]
  },
  {
   "cell_type": "markdown",
   "metadata": {},
   "source": [
    "# Maps\n",
    "\n",
    "### Mapping funcitonality isn't as advanced in Vega-Lite\n",
    "\n",
    "- For now it doesn't allow zooming and interaction beyond tooltips. \n",
    "- Not as many map projections are supported in Vega-Lite as in Vega\n",
    "- The clipping doesn't seem to work properly.\n",
    "- You can still do some world and US filled maps and symbol maps, though.\n",
    "\n",
    "We would typically load in country shapefiles from `vega_datasets`, but not all of your machines have that installed, so we'll just grab from the referring URL directly."
   ]
  },
  {
   "cell_type": "code",
   "execution_count": null,
   "metadata": {},
   "outputs": [],
   "source": [
    "# from vega_datasets import data\n",
    "# countries = alt.topo_feature(data.world_110m.url, feature='countries')\n",
    "\n",
    "# Since we don't all have vega_datasets installed\n",
    "countries = alt.topo_feature('https://vega.github.io/vega-datasets/data/world-110m.json', \n",
    "                             feature='countries')"
   ]
  },
  {
   "cell_type": "markdown",
   "metadata": {},
   "source": [
    "## Visitors per country symbol map (version 1)\n",
    "\n",
    "We'll use mean latitude and longitude from the data for the locations of the symbols for now and see how that works out\n",
    "\n",
    "*Note again that with groupby you need to do all of your aggregation in the transform_aggregate() section! We also need to project both the data and the country boundary shapes.*\n"
   ]
  },
  {
   "cell_type": "code",
   "execution_count": null,
   "metadata": {},
   "outputs": [],
   "source": [
    "proj_type = 'mercator'\n",
    "width = 600\n",
    "height = 500\n",
    "clip_extent = [[0,0.075*height],[width,0.8*height]]\n",
    "\n",
    "background = alt.Chart(countries).mark_geoshape(\n",
    "    fill = 'lightgray',\n",
    "    stroke = 'white'\n",
    ").project(\n",
    "    type = proj_type,\n",
    "    clipExtent = clip_extent\n",
    ").properties(\n",
    "    width = width,\n",
    "    height = height\n",
    ")\n",
    "\n",
    "points = alt.Chart(pageviews).mark_circle().encode(\n",
    "    longitude = 'mean_lon:Q',\n",
    "    latitude = 'mean_lat:Q',\n",
    "    size = 'sum_visitors:Q',\n",
    "    tooltip = 'country'\n",
    ").transform_aggregate(\n",
    "    sum_visitors = 'sum(visitors)',\n",
    "    mean_lat = 'mean(latitude)',\n",
    "    mean_lon = 'mean(longitude)',\n",
    "    groupby = ['country']\n",
    ").project(\n",
    "    type = proj_type,\n",
    "    clipExtent = clip_extent\n",
    ").properties(\n",
    "    width = width,\n",
    "    height = height\n",
    ")\n",
    "\n",
    "background + points"
   ]
  },
  {
   "cell_type": "markdown",
   "metadata": {},
   "source": [
    "## Looking up average Lat/Lon for countries\n",
    "\n",
    "We'll read in a CSV file with the average lat/lon values per country."
   ]
  },
  {
   "cell_type": "code",
   "execution_count": null,
   "metadata": {},
   "outputs": [],
   "source": [
    "latlon = pd.read_csv('data/average-latitude-longitude-countries.csv')\n",
    "latlon.head()"
   ]
  },
  {
   "cell_type": "markdown",
   "metadata": {},
   "source": [
    "## Visitors per country symbol map (version 2)\n",
    "\n",
    "### Doing data join within Altair using transform_lookup()\n",
    "\n",
    "For some data sources (e.g. data available at a URL, or data that is streaming), it is desirable to have a means of joining data without having to download it for pre-processing in Pandas."
   ]
  },
  {
   "cell_type": "code",
   "execution_count": null,
   "metadata": {},
   "outputs": [],
   "source": [
    "proj_type = 'mercator'\n",
    "width = 600\n",
    "height = 500\n",
    "clip_extent = [[0,0.075*height],[width,0.8*height]]\n",
    "\n",
    "background = alt.Chart(countries).mark_geoshape(\n",
    "    fill='lightgray',\n",
    "    stroke='white'\n",
    ").project(\n",
    "    type=proj_type,\n",
    "    clipExtent=clip_extent\n",
    ").properties(\n",
    "    width=width,\n",
    "    height=height\n",
    ")\n",
    "\n",
    "points = alt.Chart(pageviews).mark_circle().encode(\n",
    "    longitude = 'Longitude:Q',\n",
    "    latitude = 'Latitude:Q',\n",
    "    size = 'sum_visitors:Q',\n",
    "    tooltip = 'country'\n",
    ").transform_aggregate(\n",
    "    sum_visitors='sum(visitors)',\n",
    "    groupby=['country']\n",
    ").transform_lookup(\n",
    "    lookup = \"country\",\n",
    "    from_ = alt.LookupData(data=latlon, key='Country', fields=['Latitude','Longitude'])\n",
    ").project(\n",
    "    type=proj_type,\n",
    "    clipExtent=clip_extent\n",
    ").properties(\n",
    "    width=width,\n",
    "    height=height\n",
    ")\n",
    "\n",
    "background + points"
   ]
  },
  {
   "cell_type": "code",
   "execution_count": null,
   "metadata": {},
   "outputs": [],
   "source": []
  }
 ],
 "metadata": {
  "kernelspec": {
   "display_name": "Python 3",
   "language": "python",
   "name": "python3"
  },
  "language_info": {
   "codemirror_mode": {
    "name": "ipython",
    "version": 3
   },
   "file_extension": ".py",
   "mimetype": "text/x-python",
   "name": "python",
   "nbconvert_exporter": "python",
   "pygments_lexer": "ipython3",
   "version": "3.7.1"
  }
 },
 "nbformat": 4,
 "nbformat_minor": 2
}
